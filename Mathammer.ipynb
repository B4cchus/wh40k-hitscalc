{
 "cells": [
  {
   "cell_type": "markdown",
   "metadata": {},
   "source": [
    "# Warhammer calculations"
   ]
  },
  {
   "cell_type": "code",
   "execution_count": 1,
   "metadata": {
    "collapsed": false
   },
   "outputs": [],
   "source": [
    "from __future__ import absolute_import, division, print_function\n",
    "from builtins import *\n",
    "import scipy.stats as stats\n",
    "import scipy.misc as scm\n",
    "import matplotlib.pyplot as plt\n",
    "import random\n",
    "%matplotlib inline"
   ]
  },
  {
   "cell_type": "markdown",
   "metadata": {},
   "source": [
    "## Function defines"
   ]
  },
  {
   "cell_type": "code",
   "execution_count": 2,
   "metadata": {
    "collapsed": false
   },
   "outputs": [],
   "source": [
    "def successes(tries, prob):\n",
    "    return {x: stats.binom.pmf(x, tries, prob) for x in range(tries+1)}"
   ]
  },
  {
   "cell_type": "code",
   "execution_count": 3,
   "metadata": {
    "collapsed": true
   },
   "outputs": [],
   "source": [
    "def compound_successes(profile, prob):\n",
    "    return {x: sum(stats.binom.pmf(x, y, prob) * profile[y] for y in profile if y >= x) for x in profile}"
   ]
  },
  {
   "cell_type": "code",
   "execution_count": 4,
   "metadata": {
    "collapsed": true
   },
   "outputs": [],
   "source": [
    "def chances_from_dice(target_val, n, faces):\n",
    "    return (1 / faces ** n) * sum(((-1) ** i) * scm.comb(n, i) * scm.comb(target_val - faces * i - 1, n - 1) \n",
    "                                  for i in range((target_val - n) // faces + 1))"
   ]
  },
  {
   "cell_type": "code",
   "execution_count": 37,
   "metadata": {
    "collapsed": false
   },
   "outputs": [],
   "source": [
    "def get_damage(profile, damage_list, total_wounds, model_wounds):\n",
    "    n = len(set(damage_list))\n",
    "    output = {0: profile[0] * 100, total_wounds: 0}\n",
    "    if n == 1: \n",
    "        for h in profile:\n",
    "            if h * damage_list[0] <= total_wounds:\n",
    "                output[h * damage_list[0]] = profile[h] * 100\n",
    "            else:\n",
    "                output[total_wounds] += profile[h] * 100\n",
    "        return output        \n",
    "\n",
    "    for h in profile:\n",
    "        if h == 0: continue\n",
    "        for i in range(4000):\n",
    "            throw = []\n",
    "            for j in range(h):\n",
    "                throw.append(random.choice(damage_list))\n",
    "                if 'special' in profile and profile['special'] == 'multi-melta':\n",
    "                    throw[-1] = max(throw[-1], random.choice(damage_list))\n",
    "            spare_wounds = model_wounds\n",
    "            for dice in throw:\n",
    "                if dice >= spare_wounds: \n",
    "                    dice = spare_wounds\n",
    "                    spare_wounds = model_wounds\n",
    "                else:\n",
    "                    spare_wounds = spare_wounds - dice\n",
    "                \n",
    "            result = min(sum(throw), total_wounds)\n",
    "            if result in output: \n",
    "                output[result] += 0.025 * profile[h]\n",
    "            else:\n",
    "                output[result] = 0.025 * profile[h]\n",
    "                \n",
    "    return output    "
   ]
  },
  {
   "cell_type": "code",
   "execution_count": 6,
   "metadata": {
    "collapsed": false
   },
   "outputs": [],
   "source": [
    "def damage_dealt(profile, target):\n",
    "    damage_list = [min(x, target['wounds']) for x in damage_types[profile['damage']]]\n",
    "    hits = successes(profile['shots'], profile['p_hit'])\n",
    "    wounds = compound_successes(hits, profile['p_wound'])\n",
    "    unsaved = compound_successes(wounds, 1 - target['save'])\n",
    "    if 'FNP' in target:\n",
    "        unsaved = compound_successes(unsaved, 1 - target['FNP'])\n",
    "    return get_damage(unsaved, damage_list, target['total'], target['wounds'])"
   ]
  },
  {
   "cell_type": "code",
   "execution_count": 7,
   "metadata": {
    "collapsed": true
   },
   "outputs": [],
   "source": [
    "def wound_chart(profiles, targets):\n",
    "    if len(profiles) * len(targets) == 1:\n",
    "            xs = damage_dealt(profiles[0], targets[0]).keys()\n",
    "            ys = damage_dealt(profiles[0], targets[0]).values()\n",
    "            plt.bar(xs, ys, color = 'g', width = 1, align = 'center')\n",
    "            plt.title('{shots} shots, {damage} damage, p_hit: {p_hit:.2f}, p_wound: {p_wound:.2f}'.format(**profiles[0]))\n",
    "            plt.figure(1).text(0.95, 0.81, 'Expected: {:.1f} wounds'.format(sum(x * y / 100 for x, y in zip(xs, ys))),\n",
    "                              fontsize = 12, fontweight = 'bold')\n",
    "            plt.figure(1).text(0.95, 0.64, \n",
    "                               'Wounds per model: {wounds}\\nTotal wounds: {total}\\nSave: {save:.2f}'.format(**targets[0]),\n",
    "                               verticalalignment='top', fontsize = 12)\n",
    "            plt.figure(1).text(0.95, 0.68, 'Target profile', fontsize = 12, fontweight = 'bold')\n",
    "            plt.show()\n",
    "            print(sum(ys))\n",
    "            return None\n",
    "    \n",
    "    f, axarr = plt.subplots((len(profiles) * len(targets) + 1) // 2, 2, figsize=(12.5, 4.5))\n",
    "    plt.subplots_adjust(wspace=0.76)\n",
    "    counter = 0\n",
    "    for profile in profiles:\n",
    "        for target in targets:\n",
    "            frame = axarr[counter]\n",
    "            xs = damage_dealt(profile, target).keys()\n",
    "            ys = damage_dealt(profile, target).values()\n",
    "            frame.bar(xs, ys, color = 'g', width = 1, align = 'center')\n",
    "            frame.set_title('{shots} shots, {damage} damage, p_hit: {p_hit:.2f}, p_wound: {p_wound:.2f}'.format(**profile))\n",
    "            frame.text(1.05, 0.81, 'Expected: {:.1f} wounds'.format(sum(x * y / 100 for x, y in zip(xs, ys))),\n",
    "                              fontsize = 11, fontweight = 'bold', transform =frame.transAxes)\n",
    "            frame.text(1.05, 0.64, \n",
    "                       'Wounds per model: {wounds}\\nTotal wounds: {total}\\nSave: {save:.2f}'.format(**target),\n",
    "                       transform =frame.transAxes, verticalalignment='top', fontsize = 11)\n",
    "            frame.text(1.05, 0.68, 'Target profile', fontsize = 11, fontweight = 'bold', transform =frame.transAxes)\n",
    "            counter += 1\n",
    "    plt.show()\n",
    "    return None"
   ]
  },
  {
   "cell_type": "code",
   "execution_count": 46,
   "metadata": {
    "collapsed": true
   },
   "outputs": [],
   "source": [
    "damage_types = {'1': [1], '2': [2], '3': [3], '4': [4], 'd3': [1, 2, 3], 'd6': [1, 2, 3, 4, 5, 6]}\n",
    "profiles = [{'shots': 7, 'p_hit': 2 / 3, 'p_wound': 1 / 2, 'damage': 'd6', 'special': 'multi-melta'}]\n",
    "targets = [{'wounds': 16, 'total': 16, 'save': 0, 'FNP': 1 / 6}]"
   ]
  },
  {
   "cell_type": "markdown",
   "metadata": {},
   "source": [
    "## Work"
   ]
  },
  {
   "cell_type": "code",
   "execution_count": 47,
   "metadata": {
    "collapsed": false
   },
   "outputs": [
    {
     "data": {
      "image/png": "[encoded data removed]",
      "text/plain": [
       "<matplotlib.figure.Figure at 0xb2917b8>"
      ]
     },
     "metadata": {},
     "output_type": "display_data"
    },
    {
     "name": "stdout",
     "output_type": "stream",
     "text": [
      "100.0\n"
     ]
    }
   ],
   "source": [
    "wound_chart(profiles, targets)"
   ]
  }
 ],
 "metadata": {
  "kernelspec": {
   "display_name": "Python 2",
   "language": "python",
   "name": "python2"
  },
  "language_info": {
   "codemirror_mode": {
    "name": "ipython",
    "version": 2
   },
   "file_extension": ".py",
   "mimetype": "text/x-python",
   "name": "python",
   "nbconvert_exporter": "python",
   "pygments_lexer": "ipython2",
   "version": "2.7.8"
  }
 },
 "nbformat": 4,
 "nbformat_minor": 0
}
