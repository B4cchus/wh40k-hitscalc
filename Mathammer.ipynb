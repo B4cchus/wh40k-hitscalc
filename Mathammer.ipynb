{
 "cells": [
  {
   "cell_type": "markdown",
   "metadata": {},
   "source": [
    "# Warhammer calculations"
   ]
  },
  {
   "cell_type": "code",
   "execution_count": 1,
   "metadata": {
    "collapsed": false
   },
   "outputs": [],
   "source": [
    "from __future__ import absolute_import, division, print_function\n",
    "from builtins import *\n",
    "import scipy.stats as stats\n",
    "import scipy.misc as scm\n",
    "import matplotlib.pyplot as plt"
   ]
  },
  {
   "cell_type": "markdown",
   "metadata": {},
   "source": [
    "## Function defines"
   ]
  },
  {
   "cell_type": "code",
   "execution_count": 2,
   "metadata": {
    "collapsed": false
   },
   "outputs": [],
   "source": [
    "def successes(tries, prob):\n",
    "    return {x: round(stats.binom.pmf(x, tries, prob) * 1000) / 1000 for x in range(tries+1)}"
   ]
  },
  {
   "cell_type": "code",
   "execution_count": 3,
   "metadata": {
    "collapsed": true
   },
   "outputs": [],
   "source": [
    "def compound_successes(profile, prob):\n",
    "    return {x: round(sum(stats.binom.pmf(x, y, prob) * profile[y] for y in profile if y >= x) * 1000) / 1000 for x in profile}"
   ]
  },
  {
   "cell_type": "code",
   "execution_count": 4,
   "metadata": {
    "collapsed": false
   },
   "outputs": [],
   "source": [
    "def get_damage(profile, damage_list):\n",
    "    n = len(damage_list)\n",
    "    if n == 1: return {x * damage_list[0]: profile[x] for x in profile if profile[x] > 0}\n",
    "    output = {0: profile[0]} \n",
    "    for h in profile:\n",
    "        if h == 0 or profile[h] < 0.005: continue\n",
    "        for d in range(h * min(damage_list), max(damage_list) * h + 1):\n",
    "            if d in output:\n",
    "                output[d] += profile[h] * (1 / n ** h) * sum(((-1) ** i) * scm.comb(h, i) * scm.comb(d - n * i - 1, h - 1) \n",
    "                                                              for i in range(int((d - h) / n) + 1))\n",
    "            else:\n",
    "                output[d] = profile[h] * (1 / n ** h) * sum(((-1) ** i) * scm.comb(h, i) * scm.comb(d - n * i - 1, h - 1) \n",
    "                                                              for i in range(int((d - h) / n) + 1))\n",
    "    return output    "
   ]
  },
  {
   "cell_type": "code",
   "execution_count": 5,
   "metadata": {
    "collapsed": true
   },
   "outputs": [],
   "source": [
    "damage_types = {'1': [1], '2': [2], '3': [3], 'd3': [1, 2, 3], 'd6': [1, 2, 3, 4, 5, 6]}"
   ]
  },
  {
   "cell_type": "markdown",
   "metadata": {},
   "source": [
    "## Variable input"
   ]
  },
  {
   "cell_type": "code",
   "execution_count": 6,
   "metadata": {
    "collapsed": false
   },
   "outputs": [],
   "source": [
    "shots = 10\n",
    "p_hit = 2 / 3\n",
    "p_wound =  2 / 3\n",
    "p_unsaved = 5 / 6\n",
    "damage = 'd6'\n",
    "target_wounds = 6"
   ]
  },
  {
   "cell_type": "markdown",
   "metadata": {},
   "source": [
    "## Work"
   ]
  },
  {
   "cell_type": "code",
   "execution_count": null,
   "metadata": {
    "collapsed": false
   },
   "outputs": [],
   "source": [
    "damage_list = damage_types[damage]\n",
    "hits = successes(shots, p_hit)\n",
    "wounds = compound_successes(hits, p_wound)\n",
    "unsaved = compound_successes(wounds, p_unsaved)\n",
    "damage_dealt = get_damage(unsaved, damage_list)\n",
    "for d in damage_dealt.copy():\n",
    "    if d > target_wounds: \n",
    "        damage_dealt[target_wounds] += damage_dealt[d]\n",
    "        del damage_dealt[d]"
   ]
  },
  {
   "cell_type": "markdown",
   "metadata": {},
   "source": [
    "## Present"
   ]
  },
  {
   "cell_type": "code",
   "execution_count": null,
   "metadata": {
    "collapsed": false
   },
   "outputs": [],
   "source": [
    "fig = plt.figure()\n",
    "plt.title('{} shots with {} damage'.format(shots, damage))\n",
    "plt.ylabel('Probability, %')\n",
    "plt.xlabel('Wounds lost')\n",
    "plt.bar(damage_dealt.keys(), [i * 100 for i in damage_dealt.values()], color='g', width=1, align='center')\n",
    "fig.text(0.67, 0.75, 'Expected: {:.1f}'.format(sum(key * value for key, value in damage_dealt.items())),\n",
    "         fontsize=12, fontweight='bold', horizontalalignment='right')\n",
    "plt.show()"
   ]
  }
 ],
 "metadata": {
  "kernelspec": {
   "display_name": "Python 2",
   "language": "python",
   "name": "python2"
  },
  "language_info": {
   "codemirror_mode": {
    "name": "ipython",
    "version": 2
   },
   "file_extension": ".py",
   "mimetype": "text/x-python",
   "name": "python",
   "nbconvert_exporter": "python",
   "pygments_lexer": "ipython2",
   "version": "2.7.8"
  }
 },
 "nbformat": 4,
 "nbformat_minor": 0
}
