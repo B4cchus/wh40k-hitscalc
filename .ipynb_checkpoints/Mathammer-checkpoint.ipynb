{
 "cells": [
  {
   "cell_type": "markdown",
   "metadata": {},
   "source": [
    "# Warhammer calculations"
   ]
  },
  {
   "cell_type": "code",
   "execution_count": 1,
   "metadata": {
    "collapsed": false
   },
   "outputs": [],
   "source": [
    "from __future__ import absolute_import, division, print_function\n",
    "from builtins import *\n",
    "import scipy.stats as stats\n",
    "import scipy.misc as scm\n",
    "import matplotlib.pyplot as plt\n",
    "import random\n",
    "from itertools import product\n",
    "%matplotlib inline"
   ]
  },
  {
   "cell_type": "markdown",
   "metadata": {},
   "source": [
    "## Function defines"
   ]
  },
  {
   "cell_type": "code",
   "execution_count": 2,
   "metadata": {
    "collapsed": false
   },
   "outputs": [],
   "source": [
    "def successes(tries, prob):\n",
    "    return {x: stats.binom.pmf(x, tries, prob) for x in range(tries+1)}"
   ]
  },
  {
   "cell_type": "code",
   "execution_count": 3,
   "metadata": {
    "collapsed": true
   },
   "outputs": [],
   "source": [
    "def compound_successes(profile, prob):\n",
    "    return {x: sum(stats.binom.pmf(x, y, prob) * profile[y] for y in profile if y >= x) for x in profile}"
   ]
  },
  {
   "cell_type": "code",
   "execution_count": 4,
   "metadata": {
    "collapsed": true
   },
   "outputs": [],
   "source": [
    "def chances_from_dice(target_val, n, faces):\n",
    "    return (1 / faces ** n) * sum(((-1) ** i) * scm.comb(n, i) * scm.comb(target_val - faces * i - 1, n - 1) \n",
    "                                  for i in range((target_val - n) // faces + 1))"
   ]
  },
  {
   "cell_type": "code",
   "execution_count": 5,
   "metadata": {
    "collapsed": false
   },
   "outputs": [],
   "source": [
    "def get_damage(profile, damage_list, total_wounds, model_wounds):\n",
    "    n = len(set(damage_list))\n",
    "    \n",
    "    output = {0: profile[0] * 100}\n",
    "    \n",
    "    if n == 1:    \n",
    "        for h in profile:\n",
    "            \n",
    "            if h == 0 or profile[h] < 0.001: continue\n",
    "            \n",
    "            if h * damage_list[0] <= total_wounds:\n",
    "                output[h * damage_list[0]] = profile[h] * 100\n",
    "            else:\n",
    "                output[total_wounds] += profile[h] * 100\n",
    "        return output        \n",
    "\n",
    "    for h in profile:\n",
    "        \n",
    "        if h == 0 or profile[h] < 0.001: continue\n",
    "        \n",
    "        for i in range(4000):\n",
    "            throw = []\n",
    "            \n",
    "            for j in range(h):\n",
    "                throw.append(max(random.choice(damage_list), random.choice(damage_list))\n",
    "                             if 'specials' in profile and 'multi-melta' in profile['specials'] else random.choice(damage_list))\n",
    "            spare_wounds = model_wounds\n",
    "            \n",
    "            for dice in throw:\n",
    "                if dice >= spare_wounds: \n",
    "                    dice = spare_wounds\n",
    "                    spare_wounds = model_wounds\n",
    "                else:\n",
    "                    spare_wounds = spare_wounds - dice\n",
    "                \n",
    "            result = min(sum(throw), total_wounds)\n",
    "            \n",
    "            if result in output: \n",
    "                output[result] += 0.025 * profile[h]\n",
    "            else:\n",
    "                output[result] = 0.025 * profile[h]\n",
    "                \n",
    "    return output    "
   ]
  },
  {
   "cell_type": "code",
   "execution_count": 6,
   "metadata": {
    "collapsed": false
   },
   "outputs": [],
   "source": [
    "def damage_dealt(profile, target):\n",
    "    damage_list = [min(x, target['wounds']) for x in damage_types[profile['damage']]]\n",
    "    \n",
    "    hits = successes(profile['shots'], profile['p_hit'])\n",
    "    \n",
    "    wounds = compound_successes(hits, wound_chance(profile['S'], target['T']))\n",
    "    \n",
    "    unsaved = compound_successes(wounds, min(1 - target['save'] - profile.get('AP', 0) / 6, 1))\n",
    "    \n",
    "    if 'FNP' in target:\n",
    "        unsaved = compound_successes(unsaved, 1 - target['FNP'])\n",
    "    \n",
    "    return get_damage(unsaved, damage_list, target['total'], target['wounds'])"
   ]
  },
  {
   "cell_type": "code",
   "execution_count": 7,
   "metadata": {
    "collapsed": true
   },
   "outputs": [],
   "source": [
    "def wound_chance(S, T):\n",
    "    if S == T:\n",
    "        return 1 / 2\n",
    "    elif S >= 2 * T:\n",
    "        return 5 / 6\n",
    "    elif S > T:\n",
    "        return 2 / 3\n",
    "    elif 2 * S <= T:\n",
    "        return 1 / 6\n",
    "    else:\n",
    "        return 1 / 3"
   ]
  },
  {
   "cell_type": "code",
   "execution_count": 17,
   "metadata": {
    "collapsed": false
   },
   "outputs": [],
   "source": [
    "def wound_chart(profiles, targets, titles=None):\n",
    "    titles = product(*titles) if titles else 0\n",
    "    \n",
    "    if len(profiles) * len(targets) == 1:\n",
    "            \n",
    "            xs = damage_dealt(profiles[0], targets[0]).keys()\n",
    "            ys = damage_dealt(profiles[0], targets[0]).values()\n",
    "            \n",
    "            plt.bar(xs, ys, color = 'forestgreen', edgecolor= 'darkgreen', width = 1, align = 'center')\n",
    "            plt.axis('tight')\n",
    "            \n",
    "            if titles:\n",
    "                plt.title('{} vs {}'.format(*titles.next()), fontweight = 'bold')\n",
    "            else:\n",
    "                plt.title('{shots} shots, {damage} damage, p_hit: {p_hit:.0%}, S: {S:.0%}'.format(**profiles[0]))\n",
    "            \n",
    "            plt.figure(1).text(0.95, 0.81, 'Expected: {:.1f} wounds'.format(sum(x * y / 100 for x, y in zip(xs, ys))),\n",
    "                              fontsize = 12, fontweight = 'bold')\n",
    "            plt.figure(1).text(0.95, 0.68, 'Target profile', fontsize = 12, fontweight = 'bold')\n",
    "            plt.figure(1).text(0.95, 0.64, '\\n'.join(['{}: {:.2g}'.format(key, value) for key, value in targets[0].items()]),\n",
    "                               verticalalignment='top', fontsize = 12)\n",
    "            plt.show()\n",
    "            return None\n",
    "    \n",
    "    num_rows = (len(profiles) * len(targets) + 1) // 2\n",
    "    \n",
    "    f, axarr = plt.subplots(num_rows, 2, figsize=(14, 4 * num_rows), sharey=True, sharex=True)\n",
    "    \n",
    "    plt.subplots_adjust(wspace=0.76)\n",
    "    \n",
    "    counter = 0\n",
    "    xbound = [0, 0]\n",
    "    \n",
    "    for profile in profiles:\n",
    "        for target in targets:\n",
    "            frame = axarr[counter] if num_rows == 1 else axarr[counter // 2, counter % 2]\n",
    "            \n",
    "            xs = damage_dealt(profile, target).keys()\n",
    "            ys = damage_dealt(profile, target).values()\n",
    "            \n",
    "            xbound = [min(xbound[0], min(xs)), max(xbound[1], max(xs))]\n",
    "            frame.set_xlim(xbound[0] - 0.5, xbound[1] + 0.5)\n",
    "            frame.bar(xs, ys, color = 'forestgreen', edgecolor= 'darkgreen', width = 1, align = 'center')\n",
    "            \n",
    "            if titles:\n",
    "                frame.set_title('{} vs {}'.format(*titles.next()), fontweight = 'bold')\n",
    "            else:\n",
    "                frame.set_title('{shots} shots, {damage} damage, p_hit: {p_hit:.0%}, S: {S:.0%}'.format(**profile), fontweight = 'bold')\n",
    "            \n",
    "            frame.text(1.05, 0.81, 'Expected: {:.1f} wounds'.format(sum(x * y / 100 for x, y in zip(xs, ys))),\n",
    "                              fontsize = 12, fontweight = 'bold', transform = frame.transAxes)\n",
    "            frame.text(1.05, 0.64, '\\n'.join(['{}: {:.2g}'.format(key, value) for key, value in target.items()]),\n",
    "                               verticalalignment='top', fontsize = 12, transform = frame.transAxes)\n",
    "            frame.text(1.05, 0.68, 'Target profile', fontsize = 12, fontweight = 'bold', transform = frame.transAxes)\n",
    "            \n",
    "            counter += 1\n",
    "    plt.show()\n",
    "    return None"
   ]
  },
  {
   "cell_type": "markdown",
   "metadata": {},
   "source": [
    "## Variable input"
   ]
  },
  {
   "cell_type": "code",
   "execution_count": 19,
   "metadata": {
    "collapsed": false
   },
   "outputs": [],
   "source": [
    "damage_types = {'1': [1], '2': [2], '3': [3], '4': [4], 'd3': [1, 2, 3], 'd6': [1, 2, 3, 4, 5, 6]}\n",
    "\n",
    "profiles = [{'shots': 9, 'p_hit': 1 / 2, 'S': 4, 'damage': '1'},\n",
    "            {'shots': 9, 'p_hit': 1 / 2, 'S': 5, 'damage': '1', 'AP': -1}]\n",
    "\n",
    "targets = [{'T': 3, 'wounds': 1, 'total': 10, 'save': 2 / 6},\n",
    "           {'T': 4, 'wounds': 1, 'total': 8, 'save': 4 / 6}]"
   ]
  },
  {
   "cell_type": "markdown",
   "metadata": {},
   "source": [
    "## Work"
   ]
  },
  {
   "cell_type": "code",
   "execution_count": 21,
   "metadata": {
    "collapsed": false
   },
   "outputs": [
    {
     "data": {
      "image/png": "[encoded data removed]",
      "text/plain": [
       "<matplotlib.figure.Figure at 0xa1ddb70>"
      ]
     },
     "metadata": {},
     "output_type": "display_data"
    }
   ],
   "source": [
    "wound_chart(profiles, targets, [['3 Heavy Stubbers at BS4+', '3 Heavy Bolters at BS4+'], ['Guardsman', 'Marine']])"
   ]
  }
 ],
 "metadata": {
  "kernelspec": {
   "display_name": "Python 2",
   "language": "python",
   "name": "python2"
  },
  "language_info": {
   "codemirror_mode": {
    "name": "ipython",
    "version": 2
   },
   "file_extension": ".py",
   "mimetype": "text/x-python",
   "name": "python",
   "nbconvert_exporter": "python",
   "pygments_lexer": "ipython2",
   "version": "2.7.8"
  }
 },
 "nbformat": 4,
 "nbformat_minor": 0
}
